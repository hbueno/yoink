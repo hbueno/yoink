{
 "metadata": {
  "name": "Yoinker"
 },
 "nbformat": 3,
 "nbformat_minor": 0,
 "worksheets": [
  {
   "cells": [
    {
     "cell_type": "code",
     "collapsed": false,
     "input": [
      "import pylab as plt\n",
      "from yoink.cmap_app import CmapExtractor\n",
      "from mpl_toolkits.mplot3d import Axes3D"
     ],
     "language": "python",
     "metadata": {},
     "outputs": [],
     "prompt_number": 1
    },
    {
     "cell_type": "code",
     "collapsed": false,
     "input": [
      "pix = plt.imread('/Users/terry10/Downloads/v1_gridfloat/obfuscated.png')\n",
      "plt.imshow(pix)\n",
      "plt.show()"
     ],
     "language": "python",
     "metadata": {},
     "outputs": [],
     "prompt_number": 2
    },
    {
     "cell_type": "code",
     "collapsed": false,
     "input": [
      "thing = CmapExtractor(pix, 'test')\n",
      "plt.show()"
     ],
     "language": "python",
     "metadata": {},
     "outputs": [
      {
       "output_type": "stream",
       "stream": "stdout",
       "text": [
        "<class 'yoink.widgets.DragableColorLine'> draw\n",
        "<class 'yoink.widgets.DragableColorLine'> draw\n",
        "<class 'yoink.widgets.DragableColorLine'>"
       ]
      },
      {
       "output_type": "stream",
       "stream": "stdout",
       "text": [
        " draw\n",
        "<class 'yoink.widgets.DragableColorLine'>"
       ]
      },
      {
       "output_type": "stream",
       "stream": "stdout",
       "text": [
        " draw\n",
        "<class 'yoink.widgets.DragableColorLine'>"
       ]
      },
      {
       "output_type": "stream",
       "stream": "stdout",
       "text": [
        " draw\n",
        "<class 'yoink.widgets.DragableColorLine'>"
       ]
      },
      {
       "output_type": "stream",
       "stream": "stdout",
       "text": [
        " draw\n"
       ]
      },
      {
       "output_type": "stream",
       "stream": "stderr",
       "text": [
        "/Users/terry10/ana/envs/conda152/lib/python2.7/site-packages/matplotlib/image.py:628: UserWarning: The backend (matplotlib.backends.backend_macosx.RendererMac) does not support interpolation='none'. The image will be interpolated with 'nearest` mode.\n",
        "  warnings.warn(\"The backend (%s) does not support interpolation='none'. The image will be interpolated with 'nearest` mode.\" % renderer.__class__)\n"
       ]
      }
     ],
     "prompt_number": 3
    },
    {
     "cell_type": "code",
     "collapsed": false,
     "input": [
      "data = thing.get_data()\n",
      "print data.keys()"
     ],
     "language": "python",
     "metadata": {},
     "outputs": [
      {
       "output_type": "stream",
       "stream": "stdout",
       "text": [
        "['y', 'x', 'rgb', 'z', 'l']\n"
       ]
      }
     ],
     "prompt_number": 4
    },
    {
     "cell_type": "code",
     "collapsed": false,
     "input": [
      "plt.pcolormesh(data['y'][::-1], data['x'][::-1], data['z'], cmap=plt.cm.gist_earth)\n",
      "#plt.imshow(height, cmap=plt.cm.gist_earth)\n",
      "plt.show()"
     ],
     "language": "python",
     "metadata": {},
     "outputs": [],
     "prompt_number": 5
    },
    {
     "cell_type": "code",
     "collapsed": false,
     "input": [
      "fig = plt.figure()\n",
      "ax = fig.add_subplot(111, projection='3d')\n",
      "r, g, b, a = data['rgb'].T\n",
      "ax.plot(r, g, b, 'ko-')\n",
      "for x, y, z, a in data['rgb']:\n",
      "    plt.plot([x], [y], [z], 'o', color=(x, y, z))\n",
      "ax.set_xlabel('red')\n",
      "ax.set_ylabel('green')\n",
      "ax.set_zlabel('blue')\n",
      "plt.show()"
     ],
     "language": "python",
     "metadata": {},
     "outputs": [],
     "prompt_number": 6
    },
    {
     "cell_type": "code",
     "collapsed": false,
     "input": [
      "s"
     ],
     "language": "python",
     "metadata": {},
     "outputs": []
    }
   ],
   "metadata": {}
  }
 ]
}