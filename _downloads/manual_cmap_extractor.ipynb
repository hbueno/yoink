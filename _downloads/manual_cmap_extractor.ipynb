{
 "metadata": {
  "name": ""
 },
 "nbformat": 3,
 "nbformat_minor": 0,
 "worksheets": [
  {
   "cells": [
    {
     "cell_type": "code",
     "collapsed": false,
     "input": [
      "%pylab qt\n",
      "import pylab as plt\n",
      "import numpy as np\n",
      "from yoink.widgets import ShutterCrop, DragableColorLine\n",
      "from yoink.interp import invert_cmap"
     ],
     "language": "python",
     "metadata": {},
     "outputs": [
      {
       "output_type": "stream",
       "stream": "stdout",
       "text": [
        "Populating the interactive namespace from numpy and matplotlib\n"
       ]
      }
     ],
     "prompt_number": 1
    },
    {
     "cell_type": "code",
     "collapsed": false,
     "input": [
      "clf()\n",
      "X = np.linspace(-1, 1, 100)\n",
      "Y = np.linspace(-2, 1, 100)\n",
      "X, Y = np.meshgrid(X, Y)\n",
      "Z = np.hypot(X-Y, 3*X+Y*X)\n",
      "plt.pcolormesh(X, Y, Z, cmap=plt.cm.jet_r)\n",
      "plt.clim(0, 5)\n",
      "plt.colorbar()"
     ],
     "language": "python",
     "metadata": {},
     "outputs": [
      {
       "metadata": {},
       "output_type": "pyout",
       "prompt_number": 7,
       "text": [
        "<matplotlib.colorbar.Colorbar instance at 0x111a68050>"
       ]
      }
     ],
     "prompt_number": 7
    },
    {
     "cell_type": "code",
     "collapsed": false,
     "input": [
      "plt.savefig('cmap.png')\n",
      "img = plt.imread('cmap.png')"
     ],
     "language": "python",
     "metadata": {},
     "outputs": [],
     "prompt_number": 8
    },
    {
     "cell_type": "code",
     "collapsed": false,
     "input": [
      "imshow(img)"
     ],
     "language": "python",
     "metadata": {},
     "outputs": [
      {
       "metadata": {},
       "output_type": "pyout",
       "prompt_number": 9,
       "text": [
        "<matplotlib.image.AxesImage at 0x11250a0d0>"
       ]
      }
     ],
     "prompt_number": 9
    },
    {
     "cell_type": "code",
     "collapsed": false,
     "input": [
      "plt.figure(2)\n",
      "plt.clf()\n",
      "plt.imshow(img)\n",
      "cropper = ShutterCrop(plt.gca())\n",
      "plt.title('Cropping')"
     ],
     "language": "python",
     "metadata": {},
     "outputs": [
      {
       "metadata": {},
       "output_type": "pyout",
       "prompt_number": 10,
       "text": [
        "<matplotlib.text.Text at 0x112681ed0>"
       ]
      }
     ],
     "prompt_number": 10
    },
    {
     "cell_type": "code",
     "collapsed": false,
     "input": [
      "ext = cropper.get_extents()\n",
      "j0, jx = sorted(ext[:2])\n",
      "i0, ix = sorted(ext[2:])\n",
      "img_crop = img[i0:ix+1, j0:jx+1]"
     ],
     "language": "python",
     "metadata": {},
     "outputs": [],
     "prompt_number": 11
    },
    {
     "cell_type": "code",
     "collapsed": false,
     "input": [
      "figure(4)\n",
      "imshow(img_crop)"
     ],
     "language": "python",
     "metadata": {},
     "outputs": [
      {
       "metadata": {},
       "output_type": "pyout",
       "prompt_number": 12,
       "text": [
        "<matplotlib.image.AxesImage at 0x111a128d0>"
       ]
      }
     ],
     "prompt_number": 12
    },
    {
     "cell_type": "code",
     "collapsed": false,
     "input": [
      "plt.figure(42)\n",
      "fake_ax = subplot(111)\n",
      "plt.figure(3)\n",
      "plt.clf()\n",
      "plt.imshow(img)\n",
      "xl = plt.xlim()\n",
      "yl = plt.ylim()\n",
      "cbar_select = DragableColorLine(plt.gca(), fake_ax, img)\n",
      "plt.xlim(*xl)\n",
      "plt.ylim(*yl)"
     ],
     "language": "python",
     "metadata": {},
     "outputs": [
      {
       "metadata": {},
       "output_type": "pyout",
       "prompt_number": 13,
       "text": [
        "(599.5, -0.5)"
       ]
      }
     ],
     "prompt_number": 13
    },
    {
     "cell_type": "code",
     "collapsed": false,
     "input": [
      "plt.plot(cbar_select.l, cbar_select.rgb[:, 0], 'r')\n",
      "plt.plot(cbar_select.l, cbar_select.rgb[:, 1], 'g')\n",
      "plt.plot(cbar_select.l, cbar_select.rgb[:, 2], 'b')"
     ],
     "language": "python",
     "metadata": {},
     "outputs": [
      {
       "metadata": {},
       "output_type": "pyout",
       "prompt_number": 14,
       "text": [
        "[<matplotlib.lines.Line2D at 0x111a86c10>]"
       ]
      }
     ],
     "prompt_number": 14
    },
    {
     "cell_type": "code",
     "collapsed": false,
     "input": [
      "z = invert_cmap(img_crop, cbar_select.l, cbar_select.rgb)\n",
      "zmin, zmax = 0, 5  # from colorbar\n",
      "z = zmin + z*(zmax-zmin)\n",
      "\n",
      "ny, nx = z.shape\n",
      "xmin, xmax = -1, 1\n",
      "ymin, ymax = 2, -2  # PNGs index top to bottom\n",
      "x = np.linspace(xmin, xmax, nx)\n",
      "y = np.linspace(ymin, ymax, ny)"
     ],
     "language": "python",
     "metadata": {},
     "outputs": [],
     "prompt_number": 23
    },
    {
     "cell_type": "code",
     "collapsed": false,
     "input": [
      "figure(10)\n",
      "clf()\n",
      "subplot(121)\n",
      "pcolormesh(X, Y, Z, cmap=plt.cm.jet_r)\n",
      "clim(0, 5)\n",
      "\n",
      "subplot(122)\n",
      "pcolormesh(x, y, z, cmap=plt.cm.jet_r)"
     ],
     "language": "python",
     "metadata": {},
     "outputs": [
      {
       "metadata": {},
       "output_type": "pyout",
       "prompt_number": 24,
       "text": [
        "<matplotlib.collections.QuadMesh at 0x11682add0>"
       ]
      }
     ],
     "prompt_number": 24
    },
    {
     "cell_type": "code",
     "collapsed": false,
     "input": [],
     "language": "python",
     "metadata": {},
     "outputs": []
    }
   ],
   "metadata": {}
  }
 ]
}